{
 "cells": [
  {
   "cell_type": "code",
   "execution_count": 5,
   "id": "88be1c1f-7022-4f7b-9860-60dba511ae32",
   "metadata": {},
   "outputs": [],
   "source": [
    "import pandas as pd\n",
    "from sklearn.model_selection import train_test_split"
   ]
  },
  {
   "cell_type": "code",
   "execution_count": 6,
   "id": "ce12711d-8a5e-461f-9f72-3d1c9a908f59",
   "metadata": {},
   "outputs": [],
   "source": [
    "# Load data\n",
    "df4 = pd.read_csv(\"ExportCSV_4.csv\")\n",
    "df2 = pd.read_csv(\"ExportCSV_2.csv\")\n",
    "df3 = pd.read_csv(\"ExportCSV_3.csv\")"
   ]
  },
  {
   "cell_type": "code",
   "execution_count": 7,
   "id": "c196bff6-3987-42e5-9b4b-773c3fb71201",
   "metadata": {},
   "outputs": [
    {
     "data": {
      "text/html": [
       "<div>\n",
       "<style scoped>\n",
       "    .dataframe tbody tr th:only-of-type {\n",
       "        vertical-align: middle;\n",
       "    }\n",
       "\n",
       "    .dataframe tbody tr th {\n",
       "        vertical-align: top;\n",
       "    }\n",
       "\n",
       "    .dataframe thead th {\n",
       "        text-align: right;\n",
       "    }\n",
       "</style>\n",
       "<table border=\"1\" class=\"dataframe\">\n",
       "  <thead>\n",
       "    <tr style=\"text-align: right;\">\n",
       "      <th></th>\n",
       "      <th>ID</th>\n",
       "      <th>VSLA</th>\n",
       "      <th>Savings</th>\n",
       "      <th>Location</th>\n",
       "      <th>Capacity</th>\n",
       "      <th>Averageage</th>\n",
       "      <th>Activity</th>\n",
       "      <th>ActivityCU</th>\n",
       "      <th>Male</th>\n",
       "      <th>Female</th>\n",
       "      <th>RateofLending</th>\n",
       "      <th>Year</th>\n",
       "      <th>Shareouts</th>\n",
       "      <th>Division</th>\n",
       "    </tr>\n",
       "  </thead>\n",
       "  <tbody>\n",
       "    <tr>\n",
       "      <th>0</th>\n",
       "      <td>1</td>\n",
       "      <td>Muno</td>\n",
       "      <td>943000</td>\n",
       "      <td>Kamwyokya</td>\n",
       "      <td>30</td>\n",
       "      <td>33</td>\n",
       "      <td>Book making</td>\n",
       "      <td>5</td>\n",
       "      <td>12</td>\n",
       "      <td>18</td>\n",
       "      <td>Weekly</td>\n",
       "      <td>2018</td>\n",
       "      <td>1530691</td>\n",
       "      <td>NAKAWA</td>\n",
       "    </tr>\n",
       "    <tr>\n",
       "      <th>1</th>\n",
       "      <td>2</td>\n",
       "      <td>Binusu</td>\n",
       "      <td>970900</td>\n",
       "      <td>Bukoto</td>\n",
       "      <td>34</td>\n",
       "      <td>40</td>\n",
       "      <td>Maize Flour selling</td>\n",
       "      <td>3</td>\n",
       "      <td>12</td>\n",
       "      <td>22</td>\n",
       "      <td>Monthly</td>\n",
       "      <td>2018</td>\n",
       "      <td>2600264</td>\n",
       "      <td>NAKAWA</td>\n",
       "    </tr>\n",
       "    <tr>\n",
       "      <th>2</th>\n",
       "      <td>3</td>\n",
       "      <td>Zivamutunyo</td>\n",
       "      <td>3150800</td>\n",
       "      <td>Ntinda</td>\n",
       "      <td>31</td>\n",
       "      <td>38</td>\n",
       "      <td>Book making</td>\n",
       "      <td>5</td>\n",
       "      <td>7</td>\n",
       "      <td>24</td>\n",
       "      <td>Monthly</td>\n",
       "      <td>2018</td>\n",
       "      <td>4424193</td>\n",
       "      <td>NAKAWA</td>\n",
       "    </tr>\n",
       "    <tr>\n",
       "      <th>3</th>\n",
       "      <td>4</td>\n",
       "      <td>Mazima</td>\n",
       "      <td>1916000</td>\n",
       "      <td>Kisenyi</td>\n",
       "      <td>34</td>\n",
       "      <td>31</td>\n",
       "      <td>Book making</td>\n",
       "      <td>5</td>\n",
       "      <td>10</td>\n",
       "      <td>21</td>\n",
       "      <td>Monthly</td>\n",
       "      <td>2018</td>\n",
       "      <td>2454538</td>\n",
       "      <td>NAKAWA</td>\n",
       "    </tr>\n",
       "    <tr>\n",
       "      <th>4</th>\n",
       "      <td>5</td>\n",
       "      <td>Muda</td>\n",
       "      <td>3893700</td>\n",
       "      <td>Makindye</td>\n",
       "      <td>32</td>\n",
       "      <td>24</td>\n",
       "      <td>Mobile money</td>\n",
       "      <td>5</td>\n",
       "      <td>11</td>\n",
       "      <td>21</td>\n",
       "      <td>Monthly</td>\n",
       "      <td>2018</td>\n",
       "      <td>4369262</td>\n",
       "      <td>KAWEMPE</td>\n",
       "    </tr>\n",
       "  </tbody>\n",
       "</table>\n",
       "</div>"
      ],
      "text/plain": [
       "   ID         VSLA  Savings   Location  Capacity  Averageage  \\\n",
       "0   1         Muno   943000  Kamwyokya        30          33   \n",
       "1   2       Binusu   970900     Bukoto        34          40   \n",
       "2   3  Zivamutunyo  3150800     Ntinda        31          38   \n",
       "3   4       Mazima  1916000    Kisenyi        34          31   \n",
       "4   5         Muda  3893700   Makindye        32          24   \n",
       "\n",
       "              Activity  ActivityCU  Male  Female RateofLending  Year  \\\n",
       "0          Book making           5    12      18        Weekly  2018   \n",
       "1  Maize Flour selling           3    12      22       Monthly  2018   \n",
       "2          Book making           5     7      24       Monthly  2018   \n",
       "3          Book making           5    10      21       Monthly  2018   \n",
       "4         Mobile money           5    11      21       Monthly  2018   \n",
       "\n",
       "   Shareouts Division  \n",
       "0    1530691   NAKAWA  \n",
       "1    2600264   NAKAWA  \n",
       "2    4424193   NAKAWA  \n",
       "3    2454538   NAKAWA  \n",
       "4    4369262  KAWEMPE  "
      ]
     },
     "execution_count": 7,
     "metadata": {},
     "output_type": "execute_result"
    }
   ],
   "source": [
    "# Concatenate and show head\n",
    "df = pd.concat([df4, df2, df3])\n",
    "df.head(5)"
   ]
  },
  {
   "cell_type": "code",
   "execution_count": 8,
   "id": "69189225-a150-4e70-ba01-c2a97a3c73dc",
   "metadata": {},
   "outputs": [
    {
     "name": "stdout",
     "output_type": "stream",
     "text": [
      "<class 'pandas.core.frame.DataFrame'>\n",
      "Int64Index: 60 entries, 0 to 19\n",
      "Data columns (total 14 columns):\n",
      " #   Column         Non-Null Count  Dtype \n",
      "---  ------         --------------  ----- \n",
      " 0   ID             60 non-null     int64 \n",
      " 1   VSLA           60 non-null     object\n",
      " 2   Savings        60 non-null     int64 \n",
      " 3   Location       60 non-null     object\n",
      " 4   Capacity       60 non-null     int64 \n",
      " 5   Averageage     60 non-null     int64 \n",
      " 6   Activity       60 non-null     object\n",
      " 7   ActivityCU     60 non-null     int64 \n",
      " 8   Male           60 non-null     int64 \n",
      " 9   Female         60 non-null     int64 \n",
      " 10  RateofLending  60 non-null     object\n",
      " 11  Year           60 non-null     int64 \n",
      " 12  Shareouts      60 non-null     int64 \n",
      " 13  Division       60 non-null     object\n",
      "dtypes: int64(9), object(5)\n",
      "memory usage: 7.0+ KB\n"
     ]
    }
   ],
   "source": [
    "# Check data types\n",
    "df.info()"
   ]
  },
  {
   "cell_type": "code",
   "execution_count": 9,
   "id": "1ba42b1b-7ca4-4e28-8a81-8950b3e29342",
   "metadata": {},
   "outputs": [
    {
     "data": {
      "text/plain": [
       "ID               0\n",
       "VSLA             0\n",
       "Savings          0\n",
       "Location         0\n",
       "Capacity         0\n",
       "Averageage       0\n",
       "Activity         0\n",
       "ActivityCU       0\n",
       "Male             0\n",
       "Female           0\n",
       "RateofLending    0\n",
       "Year             0\n",
       "Shareouts        0\n",
       "Division         0\n",
       "dtype: int64"
      ]
     },
     "execution_count": 9,
     "metadata": {},
     "output_type": "execute_result"
    }
   ],
   "source": [
    "# Check null count\n",
    "df.isna().sum()"
   ]
  },
  {
   "cell_type": "code",
   "execution_count": 10,
   "id": "590ba4da-2392-42ae-8b93-eed48093d60a",
   "metadata": {},
   "outputs": [
    {
     "data": {
      "text/plain": [
       "0             Book making\n",
       "1     Maize Flour selling\n",
       "2             Book making\n",
       "3             Book making\n",
       "4            Mobile money\n",
       "5             Book making\n",
       "6            Mobile money\n",
       "7     Silver fish selling\n",
       "8             Book making\n",
       "9             Book making\n",
       "10    Maize Flour selling\n",
       "11       Paper bag making\n",
       "12           Mobile money\n",
       "13          Art and Craft\n",
       "14           Mobile money\n",
       "15           Mobile money\n",
       "16            Book making\n",
       "17            Book making\n",
       "18           Mobile money\n",
       "19           Mobile money\n",
       "Name: Activity, dtype: object"
      ]
     },
     "execution_count": 10,
     "metadata": {},
     "output_type": "execute_result"
    }
   ],
   "source": [
    "df2['Activity']"
   ]
  },
  {
   "cell_type": "code",
   "execution_count": 11,
   "id": "65e3b9cf-52d0-4963-8a98-711fd2220910",
   "metadata": {},
   "outputs": [
    {
     "data": {
      "text/plain": [
       "Bukoto       9\n",
       "Kamwokya     9\n",
       "Ntinda       6\n",
       "Kisenyi      6\n",
       "Wakaliga     6\n",
       "Kamwyokya    3\n",
       "Makindye     3\n",
       "Buziga       3\n",
       "Katwe        3\n",
       "Nateete      3\n",
       "Ggaba        3\n",
       "Mutundwe     3\n",
       "Kyengera     3\n",
       "Name: Location, dtype: int64"
      ]
     },
     "execution_count": 11,
     "metadata": {},
     "output_type": "execute_result"
    }
   ],
   "source": [
    "df['Location'].value_counts()"
   ]
  },
  {
   "cell_type": "code",
   "execution_count": 14,
   "id": "9adcbc20-376e-4e4d-b162-9b86252e21c4",
   "metadata": {},
   "outputs": [
    {
     "data": {
      "text/plain": [
       "Monthly    24\n",
       "Weekly     21\n",
       "Daily      15\n",
       "Name: RateofLending, dtype: int64"
      ]
     },
     "execution_count": 14,
     "metadata": {},
     "output_type": "execute_result"
    }
   ],
   "source": [
    "# Check Rate of Lending\n",
    "df['RateofLending'].value_counts()"
   ]
  },
  {
   "cell_type": "markdown",
   "id": "e9e84757-9121-42b7-bc8e-6fb879d7a5d7",
   "metadata": {},
   "source": [
    "## Data pre-processing\n",
    "Categorical data - Encoded (One-hot vs Ordinal)  \n",
    "Scale data"
   ]
  },
  {
   "cell_type": "code",
   "execution_count": 15,
   "id": "72ea7cfa-3201-4a5c-a7bd-84439db2a76f",
   "metadata": {},
   "outputs": [],
   "source": [
    "from sklearn.preprocessing import LabelEncoder, StandardScaler, OneHotEncoder\n",
    "from sklearn.compose import make_column_selector, make_column_transformer\n",
    "from sklearn.pipeline import make_pipeline"
   ]
  },
  {
   "cell_type": "code",
   "execution_count": 16,
   "id": "f1425ce7-bf9d-479f-a250-6160fd667604",
   "metadata": {},
   "outputs": [
    {
     "data": {
      "text/plain": [
       "Index(['ID', 'VSLA', 'Savings', 'Location', 'Capacity', 'Averageage',\n",
       "       'Activity', 'ActivityCU', 'Male', 'Female', 'RateofLending', 'Year',\n",
       "       'Shareouts', 'Division'],\n",
       "      dtype='object')"
      ]
     },
     "execution_count": 16,
     "metadata": {},
     "output_type": "execute_result"
    }
   ],
   "source": [
    "# Check columns\n",
    "df.columns"
   ]
  },
  {
   "cell_type": "code",
   "execution_count": 17,
   "id": "e8f1dda1-d848-4d03-9495-8b1c3207fe3a",
   "metadata": {},
   "outputs": [],
   "source": [
    "df= df.fillna(0)"
   ]
  },
  {
   "cell_type": "code",
   "execution_count": 18,
   "id": "191627f5-485a-4a33-a230-7f702b03b927",
   "metadata": {},
   "outputs": [
    {
     "data": {
      "text/html": [
       "<div>\n",
       "<style scoped>\n",
       "    .dataframe tbody tr th:only-of-type {\n",
       "        vertical-align: middle;\n",
       "    }\n",
       "\n",
       "    .dataframe tbody tr th {\n",
       "        vertical-align: top;\n",
       "    }\n",
       "\n",
       "    .dataframe thead th {\n",
       "        text-align: right;\n",
       "    }\n",
       "</style>\n",
       "<table border=\"1\" class=\"dataframe\">\n",
       "  <thead>\n",
       "    <tr style=\"text-align: right;\">\n",
       "      <th></th>\n",
       "      <th>ID</th>\n",
       "      <th>VSLA</th>\n",
       "      <th>Savings</th>\n",
       "      <th>Location</th>\n",
       "      <th>Capacity</th>\n",
       "      <th>Averageage</th>\n",
       "      <th>Activity</th>\n",
       "      <th>ActivityCU</th>\n",
       "      <th>Male</th>\n",
       "      <th>Female</th>\n",
       "      <th>RateofLending</th>\n",
       "      <th>Year</th>\n",
       "      <th>Shareouts</th>\n",
       "      <th>Division</th>\n",
       "    </tr>\n",
       "  </thead>\n",
       "  <tbody>\n",
       "    <tr>\n",
       "      <th>0</th>\n",
       "      <td>1</td>\n",
       "      <td>Muno</td>\n",
       "      <td>943000</td>\n",
       "      <td>Kamwyokya</td>\n",
       "      <td>30</td>\n",
       "      <td>33</td>\n",
       "      <td>Book making</td>\n",
       "      <td>5</td>\n",
       "      <td>12</td>\n",
       "      <td>18</td>\n",
       "      <td>Weekly</td>\n",
       "      <td>2018</td>\n",
       "      <td>1530691</td>\n",
       "      <td>NAKAWA</td>\n",
       "    </tr>\n",
       "    <tr>\n",
       "      <th>1</th>\n",
       "      <td>2</td>\n",
       "      <td>Binusu</td>\n",
       "      <td>970900</td>\n",
       "      <td>Bukoto</td>\n",
       "      <td>34</td>\n",
       "      <td>40</td>\n",
       "      <td>Maize Flour selling</td>\n",
       "      <td>3</td>\n",
       "      <td>12</td>\n",
       "      <td>22</td>\n",
       "      <td>Monthly</td>\n",
       "      <td>2018</td>\n",
       "      <td>2600264</td>\n",
       "      <td>NAKAWA</td>\n",
       "    </tr>\n",
       "    <tr>\n",
       "      <th>2</th>\n",
       "      <td>3</td>\n",
       "      <td>Zivamutunyo</td>\n",
       "      <td>3150800</td>\n",
       "      <td>Ntinda</td>\n",
       "      <td>31</td>\n",
       "      <td>38</td>\n",
       "      <td>Book making</td>\n",
       "      <td>5</td>\n",
       "      <td>7</td>\n",
       "      <td>24</td>\n",
       "      <td>Monthly</td>\n",
       "      <td>2018</td>\n",
       "      <td>4424193</td>\n",
       "      <td>NAKAWA</td>\n",
       "    </tr>\n",
       "  </tbody>\n",
       "</table>\n",
       "</div>"
      ],
      "text/plain": [
       "   ID         VSLA  Savings   Location  Capacity  Averageage  \\\n",
       "0   1         Muno   943000  Kamwyokya        30          33   \n",
       "1   2       Binusu   970900     Bukoto        34          40   \n",
       "2   3  Zivamutunyo  3150800     Ntinda        31          38   \n",
       "\n",
       "              Activity  ActivityCU  Male  Female RateofLending  Year  \\\n",
       "0          Book making           5    12      18        Weekly  2018   \n",
       "1  Maize Flour selling           3    12      22       Monthly  2018   \n",
       "2          Book making           5     7      24       Monthly  2018   \n",
       "\n",
       "   Shareouts Division  \n",
       "0    1530691   NAKAWA  \n",
       "1    2600264   NAKAWA  \n",
       "2    4424193   NAKAWA  "
      ]
     },
     "execution_count": 18,
     "metadata": {},
     "output_type": "execute_result"
    }
   ],
   "source": [
    "df.head(3)"
   ]
  },
  {
   "cell_type": "code",
   "execution_count": 19,
   "id": "45e30c37-8216-4ecb-92f5-019e6efd6754",
   "metadata": {},
   "outputs": [],
   "source": [
    "# Select X and y\n",
    "# y = df['Shareouts']\n",
    "y = df['Shareouts']\n",
    "X = df.drop(['ID', 'VSLA', 'Division'], axis=1)"
   ]
  },
  {
   "cell_type": "code",
   "execution_count": 20,
   "id": "442b7a28-ae6e-456e-894b-7d1b690ef1fa",
   "metadata": {},
   "outputs": [
    {
     "data": {
      "text/html": [
       "<div>\n",
       "<style scoped>\n",
       "    .dataframe tbody tr th:only-of-type {\n",
       "        vertical-align: middle;\n",
       "    }\n",
       "\n",
       "    .dataframe tbody tr th {\n",
       "        vertical-align: top;\n",
       "    }\n",
       "\n",
       "    .dataframe thead th {\n",
       "        text-align: right;\n",
       "    }\n",
       "</style>\n",
       "<table border=\"1\" class=\"dataframe\">\n",
       "  <thead>\n",
       "    <tr style=\"text-align: right;\">\n",
       "      <th></th>\n",
       "      <th>Savings</th>\n",
       "      <th>Location</th>\n",
       "      <th>Capacity</th>\n",
       "      <th>Averageage</th>\n",
       "      <th>Activity</th>\n",
       "      <th>ActivityCU</th>\n",
       "      <th>Male</th>\n",
       "      <th>Female</th>\n",
       "      <th>RateofLending</th>\n",
       "      <th>Year</th>\n",
       "      <th>Shareouts</th>\n",
       "    </tr>\n",
       "  </thead>\n",
       "  <tbody>\n",
       "    <tr>\n",
       "      <th>0</th>\n",
       "      <td>943000</td>\n",
       "      <td>Kamwyokya</td>\n",
       "      <td>30</td>\n",
       "      <td>33</td>\n",
       "      <td>Book making</td>\n",
       "      <td>5</td>\n",
       "      <td>12</td>\n",
       "      <td>18</td>\n",
       "      <td>Weekly</td>\n",
       "      <td>2018</td>\n",
       "      <td>1530691</td>\n",
       "    </tr>\n",
       "    <tr>\n",
       "      <th>1</th>\n",
       "      <td>970900</td>\n",
       "      <td>Bukoto</td>\n",
       "      <td>34</td>\n",
       "      <td>40</td>\n",
       "      <td>Maize Flour selling</td>\n",
       "      <td>3</td>\n",
       "      <td>12</td>\n",
       "      <td>22</td>\n",
       "      <td>Monthly</td>\n",
       "      <td>2018</td>\n",
       "      <td>2600264</td>\n",
       "    </tr>\n",
       "    <tr>\n",
       "      <th>2</th>\n",
       "      <td>3150800</td>\n",
       "      <td>Ntinda</td>\n",
       "      <td>31</td>\n",
       "      <td>38</td>\n",
       "      <td>Book making</td>\n",
       "      <td>5</td>\n",
       "      <td>7</td>\n",
       "      <td>24</td>\n",
       "      <td>Monthly</td>\n",
       "      <td>2018</td>\n",
       "      <td>4424193</td>\n",
       "    </tr>\n",
       "    <tr>\n",
       "      <th>3</th>\n",
       "      <td>1916000</td>\n",
       "      <td>Kisenyi</td>\n",
       "      <td>34</td>\n",
       "      <td>31</td>\n",
       "      <td>Book making</td>\n",
       "      <td>5</td>\n",
       "      <td>10</td>\n",
       "      <td>21</td>\n",
       "      <td>Monthly</td>\n",
       "      <td>2018</td>\n",
       "      <td>2454538</td>\n",
       "    </tr>\n",
       "    <tr>\n",
       "      <th>4</th>\n",
       "      <td>3893700</td>\n",
       "      <td>Makindye</td>\n",
       "      <td>32</td>\n",
       "      <td>24</td>\n",
       "      <td>Mobile money</td>\n",
       "      <td>5</td>\n",
       "      <td>11</td>\n",
       "      <td>21</td>\n",
       "      <td>Monthly</td>\n",
       "      <td>2018</td>\n",
       "      <td>4369262</td>\n",
       "    </tr>\n",
       "  </tbody>\n",
       "</table>\n",
       "</div>"
      ],
      "text/plain": [
       "   Savings   Location  Capacity  Averageage             Activity  ActivityCU  \\\n",
       "0   943000  Kamwyokya        30          33          Book making           5   \n",
       "1   970900     Bukoto        34          40  Maize Flour selling           3   \n",
       "2  3150800     Ntinda        31          38          Book making           5   \n",
       "3  1916000    Kisenyi        34          31          Book making           5   \n",
       "4  3893700   Makindye        32          24         Mobile money           5   \n",
       "\n",
       "   Male  Female RateofLending  Year  Shareouts  \n",
       "0    12      18        Weekly  2018    1530691  \n",
       "1    12      22       Monthly  2018    2600264  \n",
       "2     7      24       Monthly  2018    4424193  \n",
       "3    10      21       Monthly  2018    2454538  \n",
       "4    11      21       Monthly  2018    4369262  "
      ]
     },
     "execution_count": 20,
     "metadata": {},
     "output_type": "execute_result"
    }
   ],
   "source": [
    "X.head()"
   ]
  },
  {
   "cell_type": "code",
   "execution_count": 21,
   "id": "bc73fe33-cdce-44be-85b5-1768a0c55e0b",
   "metadata": {},
   "outputs": [],
   "source": [
    "# le = LabelEncoder()\n",
    "# le.fit(df['Location'].values)\n",
    "# le.classes_\n",
    "# le.transform(df['Location'].values)"
   ]
  },
  {
   "cell_type": "code",
   "execution_count": 22,
   "id": "091d4573-9372-4d32-a787-a7cfebfe4416",
   "metadata": {},
   "outputs": [
    {
     "name": "stdout",
     "output_type": "stream",
     "text": [
      "<class 'pandas.core.frame.DataFrame'>\n",
      "Int64Index: 60 entries, 0 to 19\n",
      "Data columns (total 11 columns):\n",
      " #   Column         Non-Null Count  Dtype \n",
      "---  ------         --------------  ----- \n",
      " 0   Savings        60 non-null     int64 \n",
      " 1   Location       60 non-null     object\n",
      " 2   Capacity       60 non-null     int64 \n",
      " 3   Averageage     60 non-null     int64 \n",
      " 4   Activity       60 non-null     object\n",
      " 5   ActivityCU     60 non-null     int64 \n",
      " 6   Male           60 non-null     int64 \n",
      " 7   Female         60 non-null     int64 \n",
      " 8   RateofLending  60 non-null     object\n",
      " 9   Year           60 non-null     int64 \n",
      " 10  Shareouts      60 non-null     int64 \n",
      "dtypes: int64(8), object(3)\n",
      "memory usage: 5.6+ KB\n"
     ]
    }
   ],
   "source": [
    "X.info()"
   ]
  },
  {
   "cell_type": "code",
   "execution_count": 23,
   "id": "e541454c-d761-4804-926f-063478074cd3",
   "metadata": {},
   "outputs": [],
   "source": [
    "# Convert year into a categorical column\n",
    "X['Year'] = X['Year'].astype(object)"
   ]
  },
  {
   "cell_type": "code",
   "execution_count": 24,
   "id": "a989ecd9-4630-4de4-9789-1d5fe3ab1c15",
   "metadata": {},
   "outputs": [
    {
     "name": "stdout",
     "output_type": "stream",
     "text": [
      "<class 'pandas.core.frame.DataFrame'>\n",
      "Int64Index: 60 entries, 0 to 19\n",
      "Data columns (total 11 columns):\n",
      " #   Column         Non-Null Count  Dtype \n",
      "---  ------         --------------  ----- \n",
      " 0   Savings        60 non-null     int64 \n",
      " 1   Location       60 non-null     object\n",
      " 2   Capacity       60 non-null     int64 \n",
      " 3   Averageage     60 non-null     int64 \n",
      " 4   Activity       60 non-null     object\n",
      " 5   ActivityCU     60 non-null     int64 \n",
      " 6   Male           60 non-null     int64 \n",
      " 7   Female         60 non-null     int64 \n",
      " 8   RateofLending  60 non-null     object\n",
      " 9   Year           60 non-null     object\n",
      " 10  Shareouts      60 non-null     int64 \n",
      "dtypes: int64(7), object(4)\n",
      "memory usage: 5.6+ KB\n"
     ]
    }
   ],
   "source": [
    "# Confirm types\n",
    "X.info()"
   ]
  },
  {
   "cell_type": "code",
   "execution_count": 25,
   "id": "e3dc39e7-f214-4141-86e5-9e0f748746a7",
   "metadata": {},
   "outputs": [],
   "source": [
    "# Select numerical and categorical columns\n",
    "cat_selector = make_column_selector(dtype_include='object')\n",
    "num_selector = make_column_selector(dtype_include='number')"
   ]
  },
  {
   "cell_type": "code",
   "execution_count": 26,
   "id": "e6d52c2f-9794-42af-a047-d6eb57e9cfba",
   "metadata": {},
   "outputs": [
    {
     "data": {
      "text/plain": [
       "['Location', 'Activity', 'RateofLending', 'Year']"
      ]
     },
     "execution_count": 26,
     "metadata": {},
     "output_type": "execute_result"
    }
   ],
   "source": [
    "cat_selector(X)"
   ]
  },
  {
   "cell_type": "code",
   "execution_count": 27,
   "id": "1e8ce81b-c65e-4ee9-a192-abff4357bb2e",
   "metadata": {},
   "outputs": [],
   "source": [
    "# Scaler and onehot encorder objects\n",
    "scaler = StandardScaler()\n",
    "ohe = OneHotEncoder(handle_unknown='ignore')"
   ]
  },
  {
   "cell_type": "code",
   "execution_count": 28,
   "id": "19c79dc3-51d0-4980-bfb7-653308d62d19",
   "metadata": {},
   "outputs": [],
   "source": [
    "# Make pipelines\n",
    "num_pipeline = make_pipeline(scaler)\n",
    "cat_pipeline = make_pipeline(ohe)\n",
    "# num_pipeline = make_pipeline(scaler, num_selector)\n",
    "# cat_pipeline = make_pipeline(ohe, cat_selector)"
   ]
  },
  {
   "cell_type": "code",
   "execution_count": 29,
   "id": "6ec03693-27d9-4d6b-aef1-3cb61ae60442",
   "metadata": {},
   "outputs": [],
   "source": [
    "# Transform columns\n",
    "number_tuple = (num_pipeline, num_selector)\n",
    "cat_tuple = (cat_pipeline, cat_selector)\n",
    "\n",
    "\n",
    "# Colummn transformer\n",
    "preprocessor = make_column_transformer(number_tuple, cat_tuple)\n",
    "# preprocessor = make_column_transformer(num_pipeline, cat_pipeline)"
   ]
  },
  {
   "cell_type": "code",
   "execution_count": 30,
   "id": "e4b74bbf-abdf-4fea-a694-943a25aaa286",
   "metadata": {},
   "outputs": [],
   "source": [
    "# Split train and test\n",
    "X_train, X_test, y_train, y_test = train_test_split(X, y, random_state=3453, test_size=0.15)"
   ]
  },
  {
   "cell_type": "code",
   "execution_count": 31,
   "id": "48b24708-dc44-4b4b-acc4-7b6a085b44b0",
   "metadata": {},
   "outputs": [
    {
     "data": {
      "text/html": [
       "<style>#sk-container-id-1 {color: black;background-color: white;}#sk-container-id-1 pre{padding: 0;}#sk-container-id-1 div.sk-toggleable {background-color: white;}#sk-container-id-1 label.sk-toggleable__label {cursor: pointer;display: block;width: 100%;margin-bottom: 0;padding: 0.3em;box-sizing: border-box;text-align: center;}#sk-container-id-1 label.sk-toggleable__label-arrow:before {content: \"▸\";float: left;margin-right: 0.25em;color: #696969;}#sk-container-id-1 label.sk-toggleable__label-arrow:hover:before {color: black;}#sk-container-id-1 div.sk-estimator:hover label.sk-toggleable__label-arrow:before {color: black;}#sk-container-id-1 div.sk-toggleable__content {max-height: 0;max-width: 0;overflow: hidden;text-align: left;background-color: #f0f8ff;}#sk-container-id-1 div.sk-toggleable__content pre {margin: 0.2em;color: black;border-radius: 0.25em;background-color: #f0f8ff;}#sk-container-id-1 input.sk-toggleable__control:checked~div.sk-toggleable__content {max-height: 200px;max-width: 100%;overflow: auto;}#sk-container-id-1 input.sk-toggleable__control:checked~label.sk-toggleable__label-arrow:before {content: \"▾\";}#sk-container-id-1 div.sk-estimator input.sk-toggleable__control:checked~label.sk-toggleable__label {background-color: #d4ebff;}#sk-container-id-1 div.sk-label input.sk-toggleable__control:checked~label.sk-toggleable__label {background-color: #d4ebff;}#sk-container-id-1 input.sk-hidden--visually {border: 0;clip: rect(1px 1px 1px 1px);clip: rect(1px, 1px, 1px, 1px);height: 1px;margin: -1px;overflow: hidden;padding: 0;position: absolute;width: 1px;}#sk-container-id-1 div.sk-estimator {font-family: monospace;background-color: #f0f8ff;border: 1px dotted black;border-radius: 0.25em;box-sizing: border-box;margin-bottom: 0.5em;}#sk-container-id-1 div.sk-estimator:hover {background-color: #d4ebff;}#sk-container-id-1 div.sk-parallel-item::after {content: \"\";width: 100%;border-bottom: 1px solid gray;flex-grow: 1;}#sk-container-id-1 div.sk-label:hover label.sk-toggleable__label {background-color: #d4ebff;}#sk-container-id-1 div.sk-serial::before {content: \"\";position: absolute;border-left: 1px solid gray;box-sizing: border-box;top: 0;bottom: 0;left: 50%;z-index: 0;}#sk-container-id-1 div.sk-serial {display: flex;flex-direction: column;align-items: center;background-color: white;padding-right: 0.2em;padding-left: 0.2em;position: relative;}#sk-container-id-1 div.sk-item {position: relative;z-index: 1;}#sk-container-id-1 div.sk-parallel {display: flex;align-items: stretch;justify-content: center;background-color: white;position: relative;}#sk-container-id-1 div.sk-item::before, #sk-container-id-1 div.sk-parallel-item::before {content: \"\";position: absolute;border-left: 1px solid gray;box-sizing: border-box;top: 0;bottom: 0;left: 50%;z-index: -1;}#sk-container-id-1 div.sk-parallel-item {display: flex;flex-direction: column;z-index: 1;position: relative;background-color: white;}#sk-container-id-1 div.sk-parallel-item:first-child::after {align-self: flex-end;width: 50%;}#sk-container-id-1 div.sk-parallel-item:last-child::after {align-self: flex-start;width: 50%;}#sk-container-id-1 div.sk-parallel-item:only-child::after {width: 0;}#sk-container-id-1 div.sk-dashed-wrapped {border: 1px dashed gray;margin: 0 0.4em 0.5em 0.4em;box-sizing: border-box;padding-bottom: 0.4em;background-color: white;}#sk-container-id-1 div.sk-label label {font-family: monospace;font-weight: bold;display: inline-block;line-height: 1.2em;}#sk-container-id-1 div.sk-label-container {text-align: center;}#sk-container-id-1 div.sk-container {/* jupyter's `normalize.less` sets `[hidden] { display: none; }` but bootstrap.min.css set `[hidden] { display: none !important; }` so we also need the `!important` here to be able to override the default hidden behavior on the sphinx rendered scikit-learn.org. See: https://github.com/scikit-learn/scikit-learn/issues/21755 */display: inline-block !important;position: relative;}#sk-container-id-1 div.sk-text-repr-fallback {display: none;}</style><div id=\"sk-container-id-1\" class=\"sk-top-container\"><div class=\"sk-text-repr-fallback\"><pre>ColumnTransformer(transformers=[(&#x27;pipeline-1&#x27;,\n",
       "                                 Pipeline(steps=[(&#x27;standardscaler&#x27;,\n",
       "                                                  StandardScaler())]),\n",
       "                                 &lt;sklearn.compose._column_transformer.make_column_selector object at 0x00000237F57D51F0&gt;),\n",
       "                                (&#x27;pipeline-2&#x27;,\n",
       "                                 Pipeline(steps=[(&#x27;onehotencoder&#x27;,\n",
       "                                                  OneHotEncoder(handle_unknown=&#x27;ignore&#x27;))]),\n",
       "                                 &lt;sklearn.compose._column_transformer.make_column_selector object at 0x00000237F1E4D3D0&gt;)])</pre><b>In a Jupyter environment, please rerun this cell to show the HTML representation or trust the notebook. <br />On GitHub, the HTML representation is unable to render, please try loading this page with nbviewer.org.</b></div><div class=\"sk-container\" hidden><div class=\"sk-item sk-dashed-wrapped\"><div class=\"sk-label-container\"><div class=\"sk-label sk-toggleable\"><input class=\"sk-toggleable__control sk-hidden--visually\" id=\"sk-estimator-id-1\" type=\"checkbox\" ><label for=\"sk-estimator-id-1\" class=\"sk-toggleable__label sk-toggleable__label-arrow\">ColumnTransformer</label><div class=\"sk-toggleable__content\"><pre>ColumnTransformer(transformers=[(&#x27;pipeline-1&#x27;,\n",
       "                                 Pipeline(steps=[(&#x27;standardscaler&#x27;,\n",
       "                                                  StandardScaler())]),\n",
       "                                 &lt;sklearn.compose._column_transformer.make_column_selector object at 0x00000237F57D51F0&gt;),\n",
       "                                (&#x27;pipeline-2&#x27;,\n",
       "                                 Pipeline(steps=[(&#x27;onehotencoder&#x27;,\n",
       "                                                  OneHotEncoder(handle_unknown=&#x27;ignore&#x27;))]),\n",
       "                                 &lt;sklearn.compose._column_transformer.make_column_selector object at 0x00000237F1E4D3D0&gt;)])</pre></div></div></div><div class=\"sk-parallel\"><div class=\"sk-parallel-item\"><div class=\"sk-item\"><div class=\"sk-label-container\"><div class=\"sk-label sk-toggleable\"><input class=\"sk-toggleable__control sk-hidden--visually\" id=\"sk-estimator-id-2\" type=\"checkbox\" ><label for=\"sk-estimator-id-2\" class=\"sk-toggleable__label sk-toggleable__label-arrow\">pipeline-1</label><div class=\"sk-toggleable__content\"><pre>&lt;sklearn.compose._column_transformer.make_column_selector object at 0x00000237F57D51F0&gt;</pre></div></div></div><div class=\"sk-serial\"><div class=\"sk-item\"><div class=\"sk-serial\"><div class=\"sk-item\"><div class=\"sk-estimator sk-toggleable\"><input class=\"sk-toggleable__control sk-hidden--visually\" id=\"sk-estimator-id-3\" type=\"checkbox\" ><label for=\"sk-estimator-id-3\" class=\"sk-toggleable__label sk-toggleable__label-arrow\">StandardScaler</label><div class=\"sk-toggleable__content\"><pre>StandardScaler()</pre></div></div></div></div></div></div></div></div><div class=\"sk-parallel-item\"><div class=\"sk-item\"><div class=\"sk-label-container\"><div class=\"sk-label sk-toggleable\"><input class=\"sk-toggleable__control sk-hidden--visually\" id=\"sk-estimator-id-4\" type=\"checkbox\" ><label for=\"sk-estimator-id-4\" class=\"sk-toggleable__label sk-toggleable__label-arrow\">pipeline-2</label><div class=\"sk-toggleable__content\"><pre>&lt;sklearn.compose._column_transformer.make_column_selector object at 0x00000237F1E4D3D0&gt;</pre></div></div></div><div class=\"sk-serial\"><div class=\"sk-item\"><div class=\"sk-serial\"><div class=\"sk-item\"><div class=\"sk-estimator sk-toggleable\"><input class=\"sk-toggleable__control sk-hidden--visually\" id=\"sk-estimator-id-5\" type=\"checkbox\" ><label for=\"sk-estimator-id-5\" class=\"sk-toggleable__label sk-toggleable__label-arrow\">OneHotEncoder</label><div class=\"sk-toggleable__content\"><pre>OneHotEncoder(handle_unknown=&#x27;ignore&#x27;)</pre></div></div></div></div></div></div></div></div></div></div></div></div>"
      ],
      "text/plain": [
       "ColumnTransformer(transformers=[('pipeline-1',\n",
       "                                 Pipeline(steps=[('standardscaler',\n",
       "                                                  StandardScaler())]),\n",
       "                                 <sklearn.compose._column_transformer.make_column_selector object at 0x00000237F57D51F0>),\n",
       "                                ('pipeline-2',\n",
       "                                 Pipeline(steps=[('onehotencoder',\n",
       "                                                  OneHotEncoder(handle_unknown='ignore'))]),\n",
       "                                 <sklearn.compose._column_transformer.make_column_selector object at 0x00000237F1E4D3D0>)])"
      ]
     },
     "execution_count": 31,
     "metadata": {},
     "output_type": "execute_result"
    }
   ],
   "source": [
    "# Fit preprocessor\n",
    "preprocessor.fit(X_train)"
   ]
  },
  {
   "cell_type": "code",
   "execution_count": 32,
   "id": "6ab2ee8b-0d2b-404d-b31b-9dbd4d5ef536",
   "metadata": {},
   "outputs": [],
   "source": [
    "# Tranform data\n",
    "X_train = preprocessor.transform(X_train)\n",
    "X_test = preprocessor.transform(X_test)"
   ]
  },
  {
   "cell_type": "code",
   "execution_count": 33,
   "id": "95f87680-c022-4690-b65c-b0513af8c25d",
   "metadata": {},
   "outputs": [
    {
     "data": {
      "text/plain": [
       "array([[ 1.03679533, -0.03349186,  0.27949137, ...,  0.        ,\n",
       "         1.        ,  0.        ],\n",
       "       [-0.98389587, -1.74157696, -0.64609694, ...,  0.        ,\n",
       "         0.        ,  1.        ],\n",
       "       [-0.88905   , -0.88753441, -0.18330278, ...,  0.        ,\n",
       "         0.        ,  1.        ],\n",
       "       ...,\n",
       "       [-1.03894594,  1.67459323, -0.8312146 , ...,  0.        ,\n",
       "         0.        ,  1.        ],\n",
       "       [ 0.39842122, -0.03349186,  0.27949137, ...,  1.        ,\n",
       "         0.        ,  0.        ],\n",
       "       [-1.10243358, -0.88753441,  0.18693254, ...,  0.        ,\n",
       "         0.        ,  1.        ]])"
      ]
     },
     "execution_count": 33,
     "metadata": {},
     "output_type": "execute_result"
    }
   ],
   "source": [
    "X_train"
   ]
  },
  {
   "cell_type": "code",
   "execution_count": 34,
   "id": "b4455fce-4662-4975-9f8c-05ea67b7272b",
   "metadata": {},
   "outputs": [
    {
     "data": {
      "text/html": [
       "<style>#sk-container-id-2 {color: black;background-color: white;}#sk-container-id-2 pre{padding: 0;}#sk-container-id-2 div.sk-toggleable {background-color: white;}#sk-container-id-2 label.sk-toggleable__label {cursor: pointer;display: block;width: 100%;margin-bottom: 0;padding: 0.3em;box-sizing: border-box;text-align: center;}#sk-container-id-2 label.sk-toggleable__label-arrow:before {content: \"▸\";float: left;margin-right: 0.25em;color: #696969;}#sk-container-id-2 label.sk-toggleable__label-arrow:hover:before {color: black;}#sk-container-id-2 div.sk-estimator:hover label.sk-toggleable__label-arrow:before {color: black;}#sk-container-id-2 div.sk-toggleable__content {max-height: 0;max-width: 0;overflow: hidden;text-align: left;background-color: #f0f8ff;}#sk-container-id-2 div.sk-toggleable__content pre {margin: 0.2em;color: black;border-radius: 0.25em;background-color: #f0f8ff;}#sk-container-id-2 input.sk-toggleable__control:checked~div.sk-toggleable__content {max-height: 200px;max-width: 100%;overflow: auto;}#sk-container-id-2 input.sk-toggleable__control:checked~label.sk-toggleable__label-arrow:before {content: \"▾\";}#sk-container-id-2 div.sk-estimator input.sk-toggleable__control:checked~label.sk-toggleable__label {background-color: #d4ebff;}#sk-container-id-2 div.sk-label input.sk-toggleable__control:checked~label.sk-toggleable__label {background-color: #d4ebff;}#sk-container-id-2 input.sk-hidden--visually {border: 0;clip: rect(1px 1px 1px 1px);clip: rect(1px, 1px, 1px, 1px);height: 1px;margin: -1px;overflow: hidden;padding: 0;position: absolute;width: 1px;}#sk-container-id-2 div.sk-estimator {font-family: monospace;background-color: #f0f8ff;border: 1px dotted black;border-radius: 0.25em;box-sizing: border-box;margin-bottom: 0.5em;}#sk-container-id-2 div.sk-estimator:hover {background-color: #d4ebff;}#sk-container-id-2 div.sk-parallel-item::after {content: \"\";width: 100%;border-bottom: 1px solid gray;flex-grow: 1;}#sk-container-id-2 div.sk-label:hover label.sk-toggleable__label {background-color: #d4ebff;}#sk-container-id-2 div.sk-serial::before {content: \"\";position: absolute;border-left: 1px solid gray;box-sizing: border-box;top: 0;bottom: 0;left: 50%;z-index: 0;}#sk-container-id-2 div.sk-serial {display: flex;flex-direction: column;align-items: center;background-color: white;padding-right: 0.2em;padding-left: 0.2em;position: relative;}#sk-container-id-2 div.sk-item {position: relative;z-index: 1;}#sk-container-id-2 div.sk-parallel {display: flex;align-items: stretch;justify-content: center;background-color: white;position: relative;}#sk-container-id-2 div.sk-item::before, #sk-container-id-2 div.sk-parallel-item::before {content: \"\";position: absolute;border-left: 1px solid gray;box-sizing: border-box;top: 0;bottom: 0;left: 50%;z-index: -1;}#sk-container-id-2 div.sk-parallel-item {display: flex;flex-direction: column;z-index: 1;position: relative;background-color: white;}#sk-container-id-2 div.sk-parallel-item:first-child::after {align-self: flex-end;width: 50%;}#sk-container-id-2 div.sk-parallel-item:last-child::after {align-self: flex-start;width: 50%;}#sk-container-id-2 div.sk-parallel-item:only-child::after {width: 0;}#sk-container-id-2 div.sk-dashed-wrapped {border: 1px dashed gray;margin: 0 0.4em 0.5em 0.4em;box-sizing: border-box;padding-bottom: 0.4em;background-color: white;}#sk-container-id-2 div.sk-label label {font-family: monospace;font-weight: bold;display: inline-block;line-height: 1.2em;}#sk-container-id-2 div.sk-label-container {text-align: center;}#sk-container-id-2 div.sk-container {/* jupyter's `normalize.less` sets `[hidden] { display: none; }` but bootstrap.min.css set `[hidden] { display: none !important; }` so we also need the `!important` here to be able to override the default hidden behavior on the sphinx rendered scikit-learn.org. See: https://github.com/scikit-learn/scikit-learn/issues/21755 */display: inline-block !important;position: relative;}#sk-container-id-2 div.sk-text-repr-fallback {display: none;}</style><div id=\"sk-container-id-2\" class=\"sk-top-container\"><div class=\"sk-text-repr-fallback\"><pre>LinearRegression()</pre><b>In a Jupyter environment, please rerun this cell to show the HTML representation or trust the notebook. <br />On GitHub, the HTML representation is unable to render, please try loading this page with nbviewer.org.</b></div><div class=\"sk-container\" hidden><div class=\"sk-item\"><div class=\"sk-estimator sk-toggleable\"><input class=\"sk-toggleable__control sk-hidden--visually\" id=\"sk-estimator-id-6\" type=\"checkbox\" checked><label for=\"sk-estimator-id-6\" class=\"sk-toggleable__label sk-toggleable__label-arrow\">LinearRegression</label><div class=\"sk-toggleable__content\"><pre>LinearRegression()</pre></div></div></div></div></div>"
      ],
      "text/plain": [
       "LinearRegression()"
      ]
     },
     "execution_count": 34,
     "metadata": {},
     "output_type": "execute_result"
    }
   ],
   "source": [
    "from sklearn.linear_model import LinearRegression\n",
    "\n",
    "# Instantiate model\n",
    "lr = LinearRegression()\n",
    "\n",
    "# Fit the model\n",
    "lr.fit(X_train, y_train)"
   ]
  },
  {
   "cell_type": "code",
   "execution_count": 35,
   "id": "2a5955a3-dbeb-444c-9c5a-8e137d2b79ad",
   "metadata": {},
   "outputs": [
    {
     "data": {
      "text/html": [
       "<style>#sk-container-id-3 {color: black;background-color: white;}#sk-container-id-3 pre{padding: 0;}#sk-container-id-3 div.sk-toggleable {background-color: white;}#sk-container-id-3 label.sk-toggleable__label {cursor: pointer;display: block;width: 100%;margin-bottom: 0;padding: 0.3em;box-sizing: border-box;text-align: center;}#sk-container-id-3 label.sk-toggleable__label-arrow:before {content: \"▸\";float: left;margin-right: 0.25em;color: #696969;}#sk-container-id-3 label.sk-toggleable__label-arrow:hover:before {color: black;}#sk-container-id-3 div.sk-estimator:hover label.sk-toggleable__label-arrow:before {color: black;}#sk-container-id-3 div.sk-toggleable__content {max-height: 0;max-width: 0;overflow: hidden;text-align: left;background-color: #f0f8ff;}#sk-container-id-3 div.sk-toggleable__content pre {margin: 0.2em;color: black;border-radius: 0.25em;background-color: #f0f8ff;}#sk-container-id-3 input.sk-toggleable__control:checked~div.sk-toggleable__content {max-height: 200px;max-width: 100%;overflow: auto;}#sk-container-id-3 input.sk-toggleable__control:checked~label.sk-toggleable__label-arrow:before {content: \"▾\";}#sk-container-id-3 div.sk-estimator input.sk-toggleable__control:checked~label.sk-toggleable__label {background-color: #d4ebff;}#sk-container-id-3 div.sk-label input.sk-toggleable__control:checked~label.sk-toggleable__label {background-color: #d4ebff;}#sk-container-id-3 input.sk-hidden--visually {border: 0;clip: rect(1px 1px 1px 1px);clip: rect(1px, 1px, 1px, 1px);height: 1px;margin: -1px;overflow: hidden;padding: 0;position: absolute;width: 1px;}#sk-container-id-3 div.sk-estimator {font-family: monospace;background-color: #f0f8ff;border: 1px dotted black;border-radius: 0.25em;box-sizing: border-box;margin-bottom: 0.5em;}#sk-container-id-3 div.sk-estimator:hover {background-color: #d4ebff;}#sk-container-id-3 div.sk-parallel-item::after {content: \"\";width: 100%;border-bottom: 1px solid gray;flex-grow: 1;}#sk-container-id-3 div.sk-label:hover label.sk-toggleable__label {background-color: #d4ebff;}#sk-container-id-3 div.sk-serial::before {content: \"\";position: absolute;border-left: 1px solid gray;box-sizing: border-box;top: 0;bottom: 0;left: 50%;z-index: 0;}#sk-container-id-3 div.sk-serial {display: flex;flex-direction: column;align-items: center;background-color: white;padding-right: 0.2em;padding-left: 0.2em;position: relative;}#sk-container-id-3 div.sk-item {position: relative;z-index: 1;}#sk-container-id-3 div.sk-parallel {display: flex;align-items: stretch;justify-content: center;background-color: white;position: relative;}#sk-container-id-3 div.sk-item::before, #sk-container-id-3 div.sk-parallel-item::before {content: \"\";position: absolute;border-left: 1px solid gray;box-sizing: border-box;top: 0;bottom: 0;left: 50%;z-index: -1;}#sk-container-id-3 div.sk-parallel-item {display: flex;flex-direction: column;z-index: 1;position: relative;background-color: white;}#sk-container-id-3 div.sk-parallel-item:first-child::after {align-self: flex-end;width: 50%;}#sk-container-id-3 div.sk-parallel-item:last-child::after {align-self: flex-start;width: 50%;}#sk-container-id-3 div.sk-parallel-item:only-child::after {width: 0;}#sk-container-id-3 div.sk-dashed-wrapped {border: 1px dashed gray;margin: 0 0.4em 0.5em 0.4em;box-sizing: border-box;padding-bottom: 0.4em;background-color: white;}#sk-container-id-3 div.sk-label label {font-family: monospace;font-weight: bold;display: inline-block;line-height: 1.2em;}#sk-container-id-3 div.sk-label-container {text-align: center;}#sk-container-id-3 div.sk-container {/* jupyter's `normalize.less` sets `[hidden] { display: none; }` but bootstrap.min.css set `[hidden] { display: none !important; }` so we also need the `!important` here to be able to override the default hidden behavior on the sphinx rendered scikit-learn.org. See: https://github.com/scikit-learn/scikit-learn/issues/21755 */display: inline-block !important;position: relative;}#sk-container-id-3 div.sk-text-repr-fallback {display: none;}</style><div id=\"sk-container-id-3\" class=\"sk-top-container\"><div class=\"sk-text-repr-fallback\"><pre>GradientBoostingRegressor(random_state=87879)</pre><b>In a Jupyter environment, please rerun this cell to show the HTML representation or trust the notebook. <br />On GitHub, the HTML representation is unable to render, please try loading this page with nbviewer.org.</b></div><div class=\"sk-container\" hidden><div class=\"sk-item\"><div class=\"sk-estimator sk-toggleable\"><input class=\"sk-toggleable__control sk-hidden--visually\" id=\"sk-estimator-id-7\" type=\"checkbox\" checked><label for=\"sk-estimator-id-7\" class=\"sk-toggleable__label sk-toggleable__label-arrow\">GradientBoostingRegressor</label><div class=\"sk-toggleable__content\"><pre>GradientBoostingRegressor(random_state=87879)</pre></div></div></div></div></div>"
      ],
      "text/plain": [
       "GradientBoostingRegressor(random_state=87879)"
      ]
     },
     "execution_count": 35,
     "metadata": {},
     "output_type": "execute_result"
    }
   ],
   "source": [
    "from sklearn.ensemble import RandomForestRegressor, GradientBoostingRegressor\n",
    "from sklearn.tree import DecisionTreeRegressor\n",
    "\n",
    "\n",
    "# Instantiate models\n",
    "dec_tree = DecisionTreeRegressor(random_state=576)\n",
    "rf = RandomForestRegressor(random_state=7668)\n",
    "xg = GradientBoostingRegressor(random_state=87879)\n",
    "\n",
    "\n",
    "# Fit the models\n",
    "dec_tree.fit(X_train, y_train)\n",
    "rf.fit(X_train, y_train)\n",
    "xg.fit(X_train, y_train)"
   ]
  },
  {
   "cell_type": "code",
   "execution_count": 36,
   "id": "09fdb543-826c-4308-b3b1-d3ff826c5fb4",
   "metadata": {},
   "outputs": [],
   "source": [
    "# rf.get_params()"
   ]
  },
  {
   "cell_type": "code",
   "execution_count": 37,
   "id": "89f13acf-039c-4354-809f-447f09a5f587",
   "metadata": {},
   "outputs": [],
   "source": [
    "# MAke predictions\n",
    "preds = lr.predict(X_test)\n",
    "preds_dt = dec_tree.predict(X_test)\n",
    "preds_rf = rf.predict(X_test)\n",
    "preds_xg = xg.predict(X_test)"
   ]
  },
  {
   "cell_type": "markdown",
   "id": "0ac2368a-0a80-4eb7-9bcd-09c6e59348bb",
   "metadata": {},
   "source": [
    "### Evaluation"
   ]
  },
  {
   "cell_type": "code",
   "execution_count": 38,
   "id": "2ec8b476-7c0e-4a01-8291-0dcd3aa6f793",
   "metadata": {},
   "outputs": [],
   "source": [
    "from sklearn.metrics import mean_absolute_error, mean_squared_error, r2_score\n",
    "# Standard metrics for regression"
   ]
  },
  {
   "cell_type": "code",
   "execution_count": 39,
   "id": "dace1b70-86f6-48ec-8da5-12f5577af567",
   "metadata": {},
   "outputs": [
    {
     "name": "stdout",
     "output_type": "stream",
     "text": [
      "4.811833302179973e-09\n",
      "80017.66666666667\n",
      "88198.51666666666\n",
      "95338.35109918735\n"
     ]
    }
   ],
   "source": [
    "print(f'{mean_absolute_error(y_test, preds)}')\n",
    "print(f'{mean_absolute_error(y_test, preds_dt)}')\n",
    "print(f'{mean_absolute_error(y_test, preds_rf)}')\n",
    "print(f'{mean_absolute_error(y_test, preds_xg)}')"
   ]
  },
  {
   "cell_type": "code",
   "execution_count": 40,
   "id": "542ec179-2ff9-4116-a7de-78c38efe0700",
   "metadata": {},
   "outputs": [
    {
     "name": "stdout",
     "output_type": "stream",
     "text": [
      "4.7680802207751405e-17\n",
      "13450674446.777779\n",
      "16021952013.305342\n",
      "50332755862.78284\n"
     ]
    }
   ],
   "source": [
    "print(f'{mean_squared_error(y_test, preds)}')\n",
    "print(f'{mean_squared_error(y_test, preds_dt)}')\n",
    "print(f'{mean_squared_error(y_test, preds_rf)}')\n",
    "print(f'{mean_squared_error(y_test, preds_xg)}')"
   ]
  },
  {
   "cell_type": "code",
   "execution_count": 41,
   "id": "3d257da0-6fa2-4436-b953-e0049e7c6208",
   "metadata": {},
   "outputs": [
    {
     "name": "stdout",
     "output_type": "stream",
     "text": [
      "6.905128688717641e-09\n"
     ]
    }
   ],
   "source": [
    "print(f'{mean_squared_error(y_test, preds, squared=False)}')"
   ]
  },
  {
   "cell_type": "code",
   "execution_count": 42,
   "id": "8f614075-6414-427e-b143-206a6cbb9816",
   "metadata": {},
   "outputs": [
    {
     "name": "stdout",
     "output_type": "stream",
     "text": [
      "LR: 1.0\n",
      "DT: 0.9954139395698107\n",
      "RF: 0.994537252356129\n",
      "RF: 0.9828388486452453\n"
     ]
    }
   ],
   "source": [
    "print(f'LR: {r2_score(y_test, preds)}')\n",
    "print(f'DT: {r2_score(y_test, preds_dt)}')\n",
    "print(f'RF: {r2_score(y_test, preds_rf)}')\n",
    "print(f'RF: {r2_score(y_test, preds_xg)}')"
   ]
  },
  {
   "cell_type": "code",
   "execution_count": 92,
   "id": "530f4fd3-219d-4b64-818b-69bdb881f82f",
   "metadata": {},
   "outputs": [
    {
     "data": {
      "text/plain": [
       "5     3108414\n",
       "8     5035000\n",
       "8     4035032\n",
       "8      535032\n",
       "19    3956200\n",
       "12    3492465\n",
       "0      630691\n",
       "4      960262\n",
       "19     396251\n",
       "Name: Shareouts, dtype: int64"
      ]
     },
     "execution_count": 92,
     "metadata": {},
     "output_type": "execute_result"
    }
   ],
   "source": [
    "y_test"
   ]
  },
  {
   "cell_type": "code",
   "execution_count": 44,
   "id": "c6ae1c20-cffa-4bdc-a6f5-0df0a2bc846f",
   "metadata": {},
   "outputs": [
    {
     "data": {
      "text/plain": [
       "0     1530691\n",
       "1     2600264\n",
       "2     4424193\n",
       "3     2454538\n",
       "4     4369262\n",
       "5     3108414\n",
       "6     3350116\n",
       "7     3034155\n",
       "8     4035032\n",
       "9     4743793\n",
       "10    2476034\n",
       "11    3130765\n",
       "12    3492465\n",
       "13    4359696\n",
       "14    3916523\n",
       "15    2344669\n",
       "16    1027837\n",
       "17    4292945\n",
       "18    3874975\n",
       "19    3956251\n",
       "0     2530600\n",
       "1     2600200\n",
       "2     4424100\n",
       "3     3454500\n",
       "4     5369200\n",
       "5     4108400\n",
       "6     5350100\n",
       "7     4034100\n",
       "8     5035000\n",
       "9     6743700\n",
       "10    6476000\n",
       "11    4130700\n",
       "12    5492400\n",
       "13    5359600\n",
       "14    4916500\n",
       "15    3344600\n",
       "16    1727800\n",
       "17    5092900\n",
       "18    3874900\n",
       "19    3956200\n",
       "0      630691\n",
       "1      500264\n",
       "2     1204100\n",
       "3      904538\n",
       "4      960262\n",
       "5     1208414\n",
       "6     1720116\n",
       "7      514155\n",
       "8      535032\n",
       "9      343793\n",
       "10     276034\n",
       "11     930765\n",
       "12     692465\n",
       "13     459696\n",
       "14      16523\n",
       "15          0\n",
       "16     200000\n",
       "17     422945\n",
       "18     384975\n",
       "19     396251\n",
       "Name: Shareouts, dtype: int64"
      ]
     },
     "execution_count": 44,
     "metadata": {},
     "output_type": "execute_result"
    }
   ],
   "source": [
    "df['Shareouts']"
   ]
  },
  {
   "cell_type": "code",
   "execution_count": 93,
   "id": "832e44b2-c946-4f1f-9c0f-3bf267ff6bfc",
   "metadata": {},
   "outputs": [
    {
     "data": {
      "text/html": [
       "<div>\n",
       "<style scoped>\n",
       "    .dataframe tbody tr th:only-of-type {\n",
       "        vertical-align: middle;\n",
       "    }\n",
       "\n",
       "    .dataframe tbody tr th {\n",
       "        vertical-align: top;\n",
       "    }\n",
       "\n",
       "    .dataframe thead th {\n",
       "        text-align: right;\n",
       "    }\n",
       "</style>\n",
       "<table border=\"1\" class=\"dataframe\">\n",
       "  <thead>\n",
       "    <tr style=\"text-align: right;\">\n",
       "      <th></th>\n",
       "      <th>ID</th>\n",
       "      <th>VSLA</th>\n",
       "      <th>Savings</th>\n",
       "      <th>Location</th>\n",
       "      <th>Capacity</th>\n",
       "      <th>Averageage</th>\n",
       "      <th>Activity</th>\n",
       "      <th>ActivityCU</th>\n",
       "      <th>Male</th>\n",
       "      <th>Female</th>\n",
       "      <th>RateofLending</th>\n",
       "      <th>Year</th>\n",
       "      <th>Shareouts</th>\n",
       "      <th>Division</th>\n",
       "    </tr>\n",
       "  </thead>\n",
       "  <tbody>\n",
       "    <tr>\n",
       "      <th>0</th>\n",
       "      <td>1</td>\n",
       "      <td>Muno</td>\n",
       "      <td>943000</td>\n",
       "      <td>Kamwyokya</td>\n",
       "      <td>30</td>\n",
       "      <td>33</td>\n",
       "      <td>Book making</td>\n",
       "      <td>5</td>\n",
       "      <td>12</td>\n",
       "      <td>18</td>\n",
       "      <td>Weekly</td>\n",
       "      <td>2018</td>\n",
       "      <td>1530691</td>\n",
       "      <td>NAKAWA</td>\n",
       "    </tr>\n",
       "    <tr>\n",
       "      <th>1</th>\n",
       "      <td>2</td>\n",
       "      <td>Binusu</td>\n",
       "      <td>970900</td>\n",
       "      <td>Bukoto</td>\n",
       "      <td>34</td>\n",
       "      <td>40</td>\n",
       "      <td>Maize Flour selling</td>\n",
       "      <td>3</td>\n",
       "      <td>12</td>\n",
       "      <td>22</td>\n",
       "      <td>Monthly</td>\n",
       "      <td>2018</td>\n",
       "      <td>2600264</td>\n",
       "      <td>NAKAWA</td>\n",
       "    </tr>\n",
       "    <tr>\n",
       "      <th>2</th>\n",
       "      <td>3</td>\n",
       "      <td>Zivamutunyo</td>\n",
       "      <td>3150800</td>\n",
       "      <td>Ntinda</td>\n",
       "      <td>31</td>\n",
       "      <td>38</td>\n",
       "      <td>Book making</td>\n",
       "      <td>5</td>\n",
       "      <td>7</td>\n",
       "      <td>24</td>\n",
       "      <td>Monthly</td>\n",
       "      <td>2018</td>\n",
       "      <td>4424193</td>\n",
       "      <td>NAKAWA</td>\n",
       "    </tr>\n",
       "    <tr>\n",
       "      <th>3</th>\n",
       "      <td>4</td>\n",
       "      <td>Mazima</td>\n",
       "      <td>1916000</td>\n",
       "      <td>Kisenyi</td>\n",
       "      <td>34</td>\n",
       "      <td>31</td>\n",
       "      <td>Book making</td>\n",
       "      <td>5</td>\n",
       "      <td>10</td>\n",
       "      <td>21</td>\n",
       "      <td>Monthly</td>\n",
       "      <td>2018</td>\n",
       "      <td>2454538</td>\n",
       "      <td>NAKAWA</td>\n",
       "    </tr>\n",
       "    <tr>\n",
       "      <th>4</th>\n",
       "      <td>5</td>\n",
       "      <td>Muda</td>\n",
       "      <td>3893700</td>\n",
       "      <td>Makindye</td>\n",
       "      <td>32</td>\n",
       "      <td>24</td>\n",
       "      <td>Mobile money</td>\n",
       "      <td>5</td>\n",
       "      <td>11</td>\n",
       "      <td>21</td>\n",
       "      <td>Monthly</td>\n",
       "      <td>2018</td>\n",
       "      <td>4369262</td>\n",
       "      <td>KAWEMPE</td>\n",
       "    </tr>\n",
       "  </tbody>\n",
       "</table>\n",
       "</div>"
      ],
      "text/plain": [
       "   ID         VSLA  Savings   Location  Capacity  Averageage  \\\n",
       "0   1         Muno   943000  Kamwyokya        30          33   \n",
       "1   2       Binusu   970900     Bukoto        34          40   \n",
       "2   3  Zivamutunyo  3150800     Ntinda        31          38   \n",
       "3   4       Mazima  1916000    Kisenyi        34          31   \n",
       "4   5         Muda  3893700   Makindye        32          24   \n",
       "\n",
       "              Activity  ActivityCU  Male  Female RateofLending  Year  \\\n",
       "0          Book making           5    12      18        Weekly  2018   \n",
       "1  Maize Flour selling           3    12      22       Monthly  2018   \n",
       "2          Book making           5     7      24       Monthly  2018   \n",
       "3          Book making           5    10      21       Monthly  2018   \n",
       "4         Mobile money           5    11      21       Monthly  2018   \n",
       "\n",
       "   Shareouts Division  \n",
       "0    1530691   NAKAWA  \n",
       "1    2600264   NAKAWA  \n",
       "2    4424193   NAKAWA  \n",
       "3    2454538   NAKAWA  \n",
       "4    4369262  KAWEMPE  "
      ]
     },
     "execution_count": 93,
     "metadata": {},
     "output_type": "execute_result"
    }
   ],
   "source": [
    "df4.head()"
   ]
  },
  {
   "cell_type": "code",
   "execution_count": 94,
   "id": "1965c4e4-9463-4f21-beb0-4d29dd05bdc0",
   "metadata": {},
   "outputs": [
    {
     "name": "stdout",
     "output_type": "stream",
     "text": [
      "<class 'pandas.core.frame.DataFrame'>\n",
      "RangeIndex: 20 entries, 0 to 19\n",
      "Data columns (total 14 columns):\n",
      " #   Column         Non-Null Count  Dtype \n",
      "---  ------         --------------  ----- \n",
      " 0   ID             20 non-null     int64 \n",
      " 1   VSLA           20 non-null     object\n",
      " 2   Savings        20 non-null     int64 \n",
      " 3   Location       20 non-null     object\n",
      " 4   Capacity       20 non-null     int64 \n",
      " 5   Averageage     20 non-null     int64 \n",
      " 6   Activity       20 non-null     object\n",
      " 7   ActivityCU     20 non-null     int64 \n",
      " 8   Male           20 non-null     int64 \n",
      " 9   Female         20 non-null     int64 \n",
      " 10  RateofLending  20 non-null     object\n",
      " 11  Year           20 non-null     object\n",
      " 12  Shareouts      20 non-null     int64 \n",
      " 13  Division       20 non-null     object\n",
      "dtypes: int64(8), object(6)\n",
      "memory usage: 2.3+ KB\n"
     ]
    }
   ],
   "source": [
    "# df4 = df4.fillna(df['Activity'].mode()[0])\n",
    "df4['Year'] = df4['Year'].astype('object')\n",
    "df4.info()"
   ]
  },
  {
   "cell_type": "code",
   "execution_count": 97,
   "id": "1b80f360-a6ae-4bf0-a952-3686e763e360",
   "metadata": {},
   "outputs": [
    {
     "data": {
      "text/plain": [
       "Index(['ID', 'VSLA', 'Savings', 'Location', 'Capacity', 'Averageage',\n",
       "       'Activity', 'ActivityCU', 'Male', 'Female', 'RateofLending', 'Year',\n",
       "       'Shareouts', 'Division'],\n",
       "      dtype='object')"
      ]
     },
     "execution_count": 97,
     "metadata": {},
     "output_type": "execute_result"
    }
   ],
   "source": [
    "df4.columns"
   ]
  },
  {
   "cell_type": "code",
   "execution_count": 112,
   "id": "3d033802-1b6c-4e4a-b27d-ad5397dc1df1",
   "metadata": {},
   "outputs": [],
   "source": [
    "X_features = df4.drop(['ID', 'VSLA', 'Division'], axis=1)"
   ]
  },
  {
   "cell_type": "code",
   "execution_count": 106,
   "id": "c651b075-1b47-41fe-aaee-4e7031ad2365",
   "metadata": {},
   "outputs": [
    {
     "data": {
      "text/plain": [
       "0     1530691\n",
       "1     2600264\n",
       "2     4424193\n",
       "3     2454538\n",
       "4     4369262\n",
       "5     3108414\n",
       "6     3350116\n",
       "7     3034155\n",
       "8     4035032\n",
       "9     4743793\n",
       "10    2476034\n",
       "11    3130765\n",
       "12    3492465\n",
       "13    4359696\n",
       "14    3916523\n",
       "15    2344669\n",
       "16    1027837\n",
       "17    4292945\n",
       "18    3874975\n",
       "19    3956251\n",
       "Name: Shareouts, dtype: int64"
      ]
     },
     "execution_count": 106,
     "metadata": {},
     "output_type": "execute_result"
    }
   ],
   "source": [
    "y_values = df4['Shareouts']\n",
    "y_values"
   ]
  },
  {
   "cell_type": "code",
   "execution_count": 113,
   "id": "75841bdb-6cd4-469c-a2fd-118f5ecee66d",
   "metadata": {},
   "outputs": [
    {
     "data": {
      "text/html": [
       "<div>\n",
       "<style scoped>\n",
       "    .dataframe tbody tr th:only-of-type {\n",
       "        vertical-align: middle;\n",
       "    }\n",
       "\n",
       "    .dataframe tbody tr th {\n",
       "        vertical-align: top;\n",
       "    }\n",
       "\n",
       "    .dataframe thead th {\n",
       "        text-align: right;\n",
       "    }\n",
       "</style>\n",
       "<table border=\"1\" class=\"dataframe\">\n",
       "  <thead>\n",
       "    <tr style=\"text-align: right;\">\n",
       "      <th></th>\n",
       "      <th>Savings</th>\n",
       "      <th>Location</th>\n",
       "      <th>Capacity</th>\n",
       "      <th>Averageage</th>\n",
       "      <th>Activity</th>\n",
       "      <th>ActivityCU</th>\n",
       "      <th>Male</th>\n",
       "      <th>Female</th>\n",
       "      <th>RateofLending</th>\n",
       "      <th>Year</th>\n",
       "      <th>Shareouts</th>\n",
       "    </tr>\n",
       "  </thead>\n",
       "  <tbody>\n",
       "    <tr>\n",
       "      <th>0</th>\n",
       "      <td>943000</td>\n",
       "      <td>Kamwyokya</td>\n",
       "      <td>30</td>\n",
       "      <td>33</td>\n",
       "      <td>Book making</td>\n",
       "      <td>5</td>\n",
       "      <td>12</td>\n",
       "      <td>18</td>\n",
       "      <td>Weekly</td>\n",
       "      <td>2018</td>\n",
       "      <td>1530691</td>\n",
       "    </tr>\n",
       "    <tr>\n",
       "      <th>1</th>\n",
       "      <td>970900</td>\n",
       "      <td>Bukoto</td>\n",
       "      <td>34</td>\n",
       "      <td>40</td>\n",
       "      <td>Maize Flour selling</td>\n",
       "      <td>3</td>\n",
       "      <td>12</td>\n",
       "      <td>22</td>\n",
       "      <td>Monthly</td>\n",
       "      <td>2018</td>\n",
       "      <td>2600264</td>\n",
       "    </tr>\n",
       "    <tr>\n",
       "      <th>2</th>\n",
       "      <td>3150800</td>\n",
       "      <td>Ntinda</td>\n",
       "      <td>31</td>\n",
       "      <td>38</td>\n",
       "      <td>Book making</td>\n",
       "      <td>5</td>\n",
       "      <td>7</td>\n",
       "      <td>24</td>\n",
       "      <td>Monthly</td>\n",
       "      <td>2018</td>\n",
       "      <td>4424193</td>\n",
       "    </tr>\n",
       "    <tr>\n",
       "      <th>3</th>\n",
       "      <td>1916000</td>\n",
       "      <td>Kisenyi</td>\n",
       "      <td>34</td>\n",
       "      <td>31</td>\n",
       "      <td>Book making</td>\n",
       "      <td>5</td>\n",
       "      <td>10</td>\n",
       "      <td>21</td>\n",
       "      <td>Monthly</td>\n",
       "      <td>2018</td>\n",
       "      <td>2454538</td>\n",
       "    </tr>\n",
       "    <tr>\n",
       "      <th>4</th>\n",
       "      <td>3893700</td>\n",
       "      <td>Makindye</td>\n",
       "      <td>32</td>\n",
       "      <td>24</td>\n",
       "      <td>Mobile money</td>\n",
       "      <td>5</td>\n",
       "      <td>11</td>\n",
       "      <td>21</td>\n",
       "      <td>Monthly</td>\n",
       "      <td>2018</td>\n",
       "      <td>4369262</td>\n",
       "    </tr>\n",
       "    <tr>\n",
       "      <th>5</th>\n",
       "      <td>2523200</td>\n",
       "      <td>Kamwokya</td>\n",
       "      <td>33</td>\n",
       "      <td>43</td>\n",
       "      <td>Book making</td>\n",
       "      <td>5</td>\n",
       "      <td>10</td>\n",
       "      <td>23</td>\n",
       "      <td>Daily</td>\n",
       "      <td>2018</td>\n",
       "      <td>3108414</td>\n",
       "    </tr>\n",
       "    <tr>\n",
       "      <th>6</th>\n",
       "      <td>2621347</td>\n",
       "      <td>Ntinda</td>\n",
       "      <td>33</td>\n",
       "      <td>26</td>\n",
       "      <td>Mobile money</td>\n",
       "      <td>5</td>\n",
       "      <td>9</td>\n",
       "      <td>24</td>\n",
       "      <td>Weekly</td>\n",
       "      <td>2018</td>\n",
       "      <td>3350116</td>\n",
       "    </tr>\n",
       "    <tr>\n",
       "      <th>7</th>\n",
       "      <td>2995593</td>\n",
       "      <td>Buziga</td>\n",
       "      <td>32</td>\n",
       "      <td>58</td>\n",
       "      <td>Silver fish selling</td>\n",
       "      <td>3</td>\n",
       "      <td>10</td>\n",
       "      <td>22</td>\n",
       "      <td>Weekly</td>\n",
       "      <td>2018</td>\n",
       "      <td>3034155</td>\n",
       "    </tr>\n",
       "    <tr>\n",
       "      <th>8</th>\n",
       "      <td>3912192</td>\n",
       "      <td>Katwe</td>\n",
       "      <td>32</td>\n",
       "      <td>23</td>\n",
       "      <td>Book making</td>\n",
       "      <td>5</td>\n",
       "      <td>11</td>\n",
       "      <td>11</td>\n",
       "      <td>Daily</td>\n",
       "      <td>2018</td>\n",
       "      <td>4035032</td>\n",
       "    </tr>\n",
       "    <tr>\n",
       "      <th>9</th>\n",
       "      <td>3716612</td>\n",
       "      <td>Kamwokya</td>\n",
       "      <td>31</td>\n",
       "      <td>42</td>\n",
       "      <td>Book making</td>\n",
       "      <td>5</td>\n",
       "      <td>7</td>\n",
       "      <td>24</td>\n",
       "      <td>Daily</td>\n",
       "      <td>2018</td>\n",
       "      <td>4743793</td>\n",
       "    </tr>\n",
       "    <tr>\n",
       "      <th>10</th>\n",
       "      <td>1916747</td>\n",
       "      <td>Wakaliga</td>\n",
       "      <td>32</td>\n",
       "      <td>54</td>\n",
       "      <td>Maize Flour selling</td>\n",
       "      <td>3</td>\n",
       "      <td>7</td>\n",
       "      <td>25</td>\n",
       "      <td>Daily</td>\n",
       "      <td>2018</td>\n",
       "      <td>2476034</td>\n",
       "    </tr>\n",
       "    <tr>\n",
       "      <th>11</th>\n",
       "      <td>2902295</td>\n",
       "      <td>Nateete</td>\n",
       "      <td>30</td>\n",
       "      <td>33</td>\n",
       "      <td>Paper bag making</td>\n",
       "      <td>2</td>\n",
       "      <td>8</td>\n",
       "      <td>22</td>\n",
       "      <td>Daily</td>\n",
       "      <td>2018</td>\n",
       "      <td>3130765</td>\n",
       "    </tr>\n",
       "    <tr>\n",
       "      <th>12</th>\n",
       "      <td>3916002</td>\n",
       "      <td>Ggaba</td>\n",
       "      <td>33</td>\n",
       "      <td>54</td>\n",
       "      <td>Mobile money</td>\n",
       "      <td>5</td>\n",
       "      <td>10</td>\n",
       "      <td>23</td>\n",
       "      <td>Weekly</td>\n",
       "      <td>2018</td>\n",
       "      <td>3492465</td>\n",
       "    </tr>\n",
       "    <tr>\n",
       "      <th>13</th>\n",
       "      <td>3369231</td>\n",
       "      <td>Mutundwe</td>\n",
       "      <td>31</td>\n",
       "      <td>22</td>\n",
       "      <td>Art and Craft</td>\n",
       "      <td>4</td>\n",
       "      <td>6</td>\n",
       "      <td>25</td>\n",
       "      <td>Weekly</td>\n",
       "      <td>2018</td>\n",
       "      <td>4359696</td>\n",
       "    </tr>\n",
       "    <tr>\n",
       "      <th>14</th>\n",
       "      <td>2914242</td>\n",
       "      <td>Bukoto</td>\n",
       "      <td>33</td>\n",
       "      <td>42</td>\n",
       "      <td>Mobile money</td>\n",
       "      <td>5</td>\n",
       "      <td>7</td>\n",
       "      <td>25</td>\n",
       "      <td>Monthly</td>\n",
       "      <td>2018</td>\n",
       "      <td>3916523</td>\n",
       "    </tr>\n",
       "    <tr>\n",
       "      <th>15</th>\n",
       "      <td>3235007</td>\n",
       "      <td>Kamwokya</td>\n",
       "      <td>32</td>\n",
       "      <td>48</td>\n",
       "      <td>Mobile money</td>\n",
       "      <td>5</td>\n",
       "      <td>7</td>\n",
       "      <td>24</td>\n",
       "      <td>Monthly</td>\n",
       "      <td>2018</td>\n",
       "      <td>2344669</td>\n",
       "    </tr>\n",
       "    <tr>\n",
       "      <th>16</th>\n",
       "      <td>881326</td>\n",
       "      <td>Bukoto</td>\n",
       "      <td>33</td>\n",
       "      <td>30</td>\n",
       "      <td>Book making</td>\n",
       "      <td>5</td>\n",
       "      <td>10</td>\n",
       "      <td>23</td>\n",
       "      <td>Monthly</td>\n",
       "      <td>2018</td>\n",
       "      <td>1027837</td>\n",
       "    </tr>\n",
       "    <tr>\n",
       "      <th>17</th>\n",
       "      <td>3067621</td>\n",
       "      <td>Wakaliga</td>\n",
       "      <td>32</td>\n",
       "      <td>43</td>\n",
       "      <td>Book making</td>\n",
       "      <td>5</td>\n",
       "      <td>6</td>\n",
       "      <td>26</td>\n",
       "      <td>Monthly</td>\n",
       "      <td>2018</td>\n",
       "      <td>4292945</td>\n",
       "    </tr>\n",
       "    <tr>\n",
       "      <th>18</th>\n",
       "      <td>3366308</td>\n",
       "      <td>Kisenyi</td>\n",
       "      <td>31</td>\n",
       "      <td>57</td>\n",
       "      <td>Mobile money</td>\n",
       "      <td>5</td>\n",
       "      <td>6</td>\n",
       "      <td>26</td>\n",
       "      <td>Weekly</td>\n",
       "      <td>2018</td>\n",
       "      <td>3874975</td>\n",
       "    </tr>\n",
       "    <tr>\n",
       "      <th>19</th>\n",
       "      <td>2896032</td>\n",
       "      <td>Kyengera</td>\n",
       "      <td>31</td>\n",
       "      <td>39</td>\n",
       "      <td>Mobile money</td>\n",
       "      <td>5</td>\n",
       "      <td>6</td>\n",
       "      <td>24</td>\n",
       "      <td>Weekly</td>\n",
       "      <td>2018</td>\n",
       "      <td>3956251</td>\n",
       "    </tr>\n",
       "  </tbody>\n",
       "</table>\n",
       "</div>"
      ],
      "text/plain": [
       "    Savings   Location  Capacity  Averageage             Activity  ActivityCU  \\\n",
       "0    943000  Kamwyokya        30          33          Book making           5   \n",
       "1    970900     Bukoto        34          40  Maize Flour selling           3   \n",
       "2   3150800     Ntinda        31          38          Book making           5   \n",
       "3   1916000    Kisenyi        34          31          Book making           5   \n",
       "4   3893700   Makindye        32          24         Mobile money           5   \n",
       "5   2523200   Kamwokya        33          43          Book making           5   \n",
       "6   2621347     Ntinda        33          26         Mobile money           5   \n",
       "7   2995593     Buziga        32          58  Silver fish selling           3   \n",
       "8   3912192      Katwe        32          23          Book making           5   \n",
       "9   3716612   Kamwokya        31          42          Book making           5   \n",
       "10  1916747   Wakaliga        32          54  Maize Flour selling           3   \n",
       "11  2902295    Nateete        30          33     Paper bag making           2   \n",
       "12  3916002      Ggaba        33          54         Mobile money           5   \n",
       "13  3369231   Mutundwe        31          22        Art and Craft           4   \n",
       "14  2914242     Bukoto        33          42         Mobile money           5   \n",
       "15  3235007   Kamwokya        32          48         Mobile money           5   \n",
       "16   881326     Bukoto        33          30          Book making           5   \n",
       "17  3067621   Wakaliga        32          43          Book making           5   \n",
       "18  3366308    Kisenyi        31          57         Mobile money           5   \n",
       "19  2896032   Kyengera        31          39         Mobile money           5   \n",
       "\n",
       "    Male  Female RateofLending  Year  Shareouts  \n",
       "0     12      18        Weekly  2018    1530691  \n",
       "1     12      22       Monthly  2018    2600264  \n",
       "2      7      24       Monthly  2018    4424193  \n",
       "3     10      21       Monthly  2018    2454538  \n",
       "4     11      21       Monthly  2018    4369262  \n",
       "5     10      23         Daily  2018    3108414  \n",
       "6      9      24        Weekly  2018    3350116  \n",
       "7     10      22        Weekly  2018    3034155  \n",
       "8     11      11         Daily  2018    4035032  \n",
       "9      7      24         Daily  2018    4743793  \n",
       "10     7      25         Daily  2018    2476034  \n",
       "11     8      22         Daily  2018    3130765  \n",
       "12    10      23        Weekly  2018    3492465  \n",
       "13     6      25        Weekly  2018    4359696  \n",
       "14     7      25       Monthly  2018    3916523  \n",
       "15     7      24       Monthly  2018    2344669  \n",
       "16    10      23       Monthly  2018    1027837  \n",
       "17     6      26       Monthly  2018    4292945  \n",
       "18     6      26        Weekly  2018    3874975  \n",
       "19     6      24        Weekly  2018    3956251  "
      ]
     },
     "execution_count": 113,
     "metadata": {},
     "output_type": "execute_result"
    }
   ],
   "source": [
    "X_features"
   ]
  },
  {
   "cell_type": "code",
   "execution_count": 114,
   "id": "a0805dba-72c8-41e7-9b9e-8fc54182358b",
   "metadata": {},
   "outputs": [],
   "source": [
    "X_features_on_processing = preprocessor.transform(X_features)"
   ]
  },
  {
   "cell_type": "code",
   "execution_count": 116,
   "id": "006d5436-efd0-42fc-9678-76a90a6e80a2",
   "metadata": {},
   "outputs": [],
   "source": [
    "new_preds = rf.predict(X_features_on_processing)\n",
    "# X_features.head(5)"
   ]
  },
  {
   "cell_type": "code",
   "execution_count": 105,
   "id": "f1ca44cd-0bee-4517-81c1-088763eae0fa",
   "metadata": {},
   "outputs": [],
   "source": [
    "# X_features_processed"
   ]
  },
  {
   "cell_type": "code",
   "execution_count": 110,
   "id": "db4c0983-7690-44c2-8660-28bc7f6680f3",
   "metadata": {},
   "outputs": [],
   "source": [
    "# y_values\n",
    "# X_features"
   ]
  },
  {
   "cell_type": "code",
   "execution_count": 64,
   "id": "39129409-52a7-4d20-b89e-1a5ac77fef6d",
   "metadata": {},
   "outputs": [],
   "source": [
    "# res = pd.DataFrame({\"Actual\": y_values, \"Predicted\":new_preds})\n",
    "# X = df4.iloc[:, :34].values\n",
    "# X"
   ]
  },
  {
   "cell_type": "code",
   "execution_count": 117,
   "id": "9b241a8f-1041-448f-81fe-a788647ee401",
   "metadata": {},
   "outputs": [],
   "source": [
    "res = pd.DataFrame({\"Actual\": y_values, \"Predicted\":new_preds})"
   ]
  },
  {
   "cell_type": "code",
   "execution_count": 118,
   "id": "1cfd7f5b-d4eb-4a68-87be-a7d5db438875",
   "metadata": {},
   "outputs": [
    {
     "data": {
      "text/html": [
       "<div>\n",
       "<style scoped>\n",
       "    .dataframe tbody tr th:only-of-type {\n",
       "        vertical-align: middle;\n",
       "    }\n",
       "\n",
       "    .dataframe tbody tr th {\n",
       "        vertical-align: top;\n",
       "    }\n",
       "\n",
       "    .dataframe thead th {\n",
       "        text-align: right;\n",
       "    }\n",
       "</style>\n",
       "<table border=\"1\" class=\"dataframe\">\n",
       "  <thead>\n",
       "    <tr style=\"text-align: right;\">\n",
       "      <th></th>\n",
       "      <th>Actual</th>\n",
       "      <th>Predicted</th>\n",
       "    </tr>\n",
       "  </thead>\n",
       "  <tbody>\n",
       "    <tr>\n",
       "      <th>0</th>\n",
       "      <td>1530691</td>\n",
       "      <td>1613934.68</td>\n",
       "    </tr>\n",
       "    <tr>\n",
       "      <th>1</th>\n",
       "      <td>2600264</td>\n",
       "      <td>2512931.81</td>\n",
       "    </tr>\n",
       "    <tr>\n",
       "      <th>2</th>\n",
       "      <td>4424193</td>\n",
       "      <td>4401102.12</td>\n",
       "    </tr>\n",
       "    <tr>\n",
       "      <th>3</th>\n",
       "      <td>2454538</td>\n",
       "      <td>2431673.81</td>\n",
       "    </tr>\n",
       "    <tr>\n",
       "      <th>4</th>\n",
       "      <td>4369262</td>\n",
       "      <td>4375238.46</td>\n",
       "    </tr>\n",
       "  </tbody>\n",
       "</table>\n",
       "</div>"
      ],
      "text/plain": [
       "    Actual   Predicted\n",
       "0  1530691  1613934.68\n",
       "1  2600264  2512931.81\n",
       "2  4424193  4401102.12\n",
       "3  2454538  2431673.81\n",
       "4  4369262  4375238.46"
      ]
     },
     "execution_count": 118,
     "metadata": {},
     "output_type": "execute_result"
    }
   ],
   "source": [
    "res.head()"
   ]
  },
  {
   "cell_type": "code",
   "execution_count": 119,
   "id": "412c9577-8e70-4ff3-bb4f-60c2124d86a2",
   "metadata": {},
   "outputs": [
    {
     "data": {
      "text/html": [
       "<div>\n",
       "<style scoped>\n",
       "    .dataframe tbody tr th:only-of-type {\n",
       "        vertical-align: middle;\n",
       "    }\n",
       "\n",
       "    .dataframe tbody tr th {\n",
       "        vertical-align: top;\n",
       "    }\n",
       "\n",
       "    .dataframe thead th {\n",
       "        text-align: right;\n",
       "    }\n",
       "</style>\n",
       "<table border=\"1\" class=\"dataframe\">\n",
       "  <thead>\n",
       "    <tr style=\"text-align: right;\">\n",
       "      <th></th>\n",
       "      <th>Actual</th>\n",
       "      <th>Predicted</th>\n",
       "      <th>Difference</th>\n",
       "    </tr>\n",
       "  </thead>\n",
       "  <tbody>\n",
       "    <tr>\n",
       "      <th>0</th>\n",
       "      <td>1530691</td>\n",
       "      <td>1613934.68</td>\n",
       "      <td>-83243.68</td>\n",
       "    </tr>\n",
       "    <tr>\n",
       "      <th>1</th>\n",
       "      <td>2600264</td>\n",
       "      <td>2512931.81</td>\n",
       "      <td>87332.19</td>\n",
       "    </tr>\n",
       "    <tr>\n",
       "      <th>2</th>\n",
       "      <td>4424193</td>\n",
       "      <td>4401102.12</td>\n",
       "      <td>23090.88</td>\n",
       "    </tr>\n",
       "    <tr>\n",
       "      <th>3</th>\n",
       "      <td>2454538</td>\n",
       "      <td>2431673.81</td>\n",
       "      <td>22864.19</td>\n",
       "    </tr>\n",
       "    <tr>\n",
       "      <th>4</th>\n",
       "      <td>4369262</td>\n",
       "      <td>4375238.46</td>\n",
       "      <td>-5976.46</td>\n",
       "    </tr>\n",
       "    <tr>\n",
       "      <th>5</th>\n",
       "      <td>3108414</td>\n",
       "      <td>3288204.27</td>\n",
       "      <td>-179790.27</td>\n",
       "    </tr>\n",
       "    <tr>\n",
       "      <th>6</th>\n",
       "      <td>3350116</td>\n",
       "      <td>3363785.04</td>\n",
       "      <td>-13669.04</td>\n",
       "    </tr>\n",
       "    <tr>\n",
       "      <th>7</th>\n",
       "      <td>3034155</td>\n",
       "      <td>3180677.81</td>\n",
       "      <td>-146522.81</td>\n",
       "    </tr>\n",
       "    <tr>\n",
       "      <th>8</th>\n",
       "      <td>4035032</td>\n",
       "      <td>4076790.86</td>\n",
       "      <td>-41758.86</td>\n",
       "    </tr>\n",
       "    <tr>\n",
       "      <th>9</th>\n",
       "      <td>4743793</td>\n",
       "      <td>4750608.70</td>\n",
       "      <td>-6815.70</td>\n",
       "    </tr>\n",
       "    <tr>\n",
       "      <th>10</th>\n",
       "      <td>2476034</td>\n",
       "      <td>2466461.08</td>\n",
       "      <td>9572.92</td>\n",
       "    </tr>\n",
       "    <tr>\n",
       "      <th>11</th>\n",
       "      <td>3130765</td>\n",
       "      <td>3209859.73</td>\n",
       "      <td>-79094.73</td>\n",
       "    </tr>\n",
       "    <tr>\n",
       "      <th>12</th>\n",
       "      <td>3492465</td>\n",
       "      <td>3342163.08</td>\n",
       "      <td>150301.92</td>\n",
       "    </tr>\n",
       "    <tr>\n",
       "      <th>13</th>\n",
       "      <td>4359696</td>\n",
       "      <td>4362255.60</td>\n",
       "      <td>-2559.60</td>\n",
       "    </tr>\n",
       "    <tr>\n",
       "      <th>14</th>\n",
       "      <td>3916523</td>\n",
       "      <td>3916876.57</td>\n",
       "      <td>-353.57</td>\n",
       "    </tr>\n",
       "    <tr>\n",
       "      <th>15</th>\n",
       "      <td>2344669</td>\n",
       "      <td>2541744.78</td>\n",
       "      <td>-197075.78</td>\n",
       "    </tr>\n",
       "    <tr>\n",
       "      <th>16</th>\n",
       "      <td>1027837</td>\n",
       "      <td>1032816.95</td>\n",
       "      <td>-4979.95</td>\n",
       "    </tr>\n",
       "    <tr>\n",
       "      <th>17</th>\n",
       "      <td>4292945</td>\n",
       "      <td>4311915.97</td>\n",
       "      <td>-18970.97</td>\n",
       "    </tr>\n",
       "    <tr>\n",
       "      <th>18</th>\n",
       "      <td>3874975</td>\n",
       "      <td>3887765.96</td>\n",
       "      <td>-12790.96</td>\n",
       "    </tr>\n",
       "    <tr>\n",
       "      <th>19</th>\n",
       "      <td>3956251</td>\n",
       "      <td>3939815.80</td>\n",
       "      <td>16435.20</td>\n",
       "    </tr>\n",
       "  </tbody>\n",
       "</table>\n",
       "</div>"
      ],
      "text/plain": [
       "     Actual   Predicted  Difference\n",
       "0   1530691  1613934.68   -83243.68\n",
       "1   2600264  2512931.81    87332.19\n",
       "2   4424193  4401102.12    23090.88\n",
       "3   2454538  2431673.81    22864.19\n",
       "4   4369262  4375238.46    -5976.46\n",
       "5   3108414  3288204.27  -179790.27\n",
       "6   3350116  3363785.04   -13669.04\n",
       "7   3034155  3180677.81  -146522.81\n",
       "8   4035032  4076790.86   -41758.86\n",
       "9   4743793  4750608.70    -6815.70\n",
       "10  2476034  2466461.08     9572.92\n",
       "11  3130765  3209859.73   -79094.73\n",
       "12  3492465  3342163.08   150301.92\n",
       "13  4359696  4362255.60    -2559.60\n",
       "14  3916523  3916876.57     -353.57\n",
       "15  2344669  2541744.78  -197075.78\n",
       "16  1027837  1032816.95    -4979.95\n",
       "17  4292945  4311915.97   -18970.97\n",
       "18  3874975  3887765.96   -12790.96\n",
       "19  3956251  3939815.80    16435.20"
      ]
     },
     "execution_count": 119,
     "metadata": {},
     "output_type": "execute_result"
    }
   ],
   "source": [
    "res[\"Difference\"] = res[\"Actual\"] - res[\"Predicted\"]\n",
    "res"
   ]
  },
  {
   "cell_type": "code",
   "execution_count": 130,
   "id": "276656cd-cb65-49e5-8b75-efb226685da4",
   "metadata": {},
   "outputs": [],
   "source": [
    "# Saving model\n",
    "import pickle\n",
    "pickle.dump(rf, open(\"my_rand_forest_reg.pickle\", 'wb'))"
   ]
  },
  {
   "cell_type": "code",
   "execution_count": 131,
   "id": "383aac64-e89b-4e4f-b7e9-65d89d3256c1",
   "metadata": {},
   "outputs": [],
   "source": [
    "# Load model\n",
    "loaded_model = pickle.load(open(\"my_rand_forest_reg.pickle\", 'rb'))"
   ]
  },
  {
   "cell_type": "code",
   "execution_count": 132,
   "id": "18f95640-e08e-4a6a-9ef3-65b72ebc0ba8",
   "metadata": {},
   "outputs": [
    {
     "data": {
      "text/plain": [
       "array([1613934.68, 2512931.81, 4401102.12, 2431673.81, 4375238.46,\n",
       "       3288204.27, 3363785.04, 3180677.81, 4076790.86, 4750608.7 ,\n",
       "       2466461.08, 3209859.73, 3342163.08, 4362255.6 , 3916876.57,\n",
       "       2541744.78, 1032816.95, 4311915.97, 3887765.96, 3939815.8 ])"
      ]
     },
     "execution_count": 132,
     "metadata": {},
     "output_type": "execute_result"
    }
   ],
   "source": [
    "loaded_model.predict(X_features_on_processing)"
   ]
  },
  {
   "cell_type": "code",
   "execution_count": 134,
   "id": "ae4a7dee-1ccb-4510-8dc8-15ceb754c585",
   "metadata": {},
   "outputs": [],
   "source": [
    "\n",
    "df4.to_csv('myvslaz.csv')"
   ]
  },
  {
   "cell_type": "code",
   "execution_count": null,
   "id": "e70b94dd-f53c-46aa-bbdf-d007e1348bc1",
   "metadata": {},
   "outputs": [],
   "source": []
  },
  {
   "cell_type": "code",
   "execution_count": null,
   "id": "ba940038-b681-44c1-ac07-d5cf6172d0eb",
   "metadata": {},
   "outputs": [],
   "source": []
  }
 ],
 "metadata": {
  "kernelspec": {
   "display_name": "Python 3 (ipykernel)",
   "language": "python",
   "name": "python3"
  },
  "language_info": {
   "codemirror_mode": {
    "name": "ipython",
    "version": 3
   },
   "file_extension": ".py",
   "mimetype": "text/x-python",
   "name": "python",
   "nbconvert_exporter": "python",
   "pygments_lexer": "ipython3",
   "version": "3.9.12"
  }
 },
 "nbformat": 4,
 "nbformat_minor": 5
}
